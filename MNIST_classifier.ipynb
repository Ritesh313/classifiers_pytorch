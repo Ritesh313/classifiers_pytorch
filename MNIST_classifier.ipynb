{
  "nbformat": 4,
  "nbformat_minor": 0,
  "metadata": {
    "colab": {
      "name": "NN&DL_HW3",
      "provenance": [],
      "collapsed_sections": []
    },
    "kernelspec": {
      "name": "python3",
      "display_name": "Python 3"
    }
  },
  "cells": [
    {
      "cell_type": "code",
      "metadata": {
        "id": "5sTEjHHh7-NI"
      },
      "source": [
        "#Importing the libraries\n",
        "\n",
        "from __future__ import print_function\n",
        "\n",
        "import pandas as pd\n",
        "import numpy as np\n",
        "import os\n",
        "\n",
        "# Pytorch modules used in my code.\n",
        "import torch\n",
        "from torch.utils.data import Dataset\n",
        "from torch.utils.data import DataLoader\n",
        "from torch import nn\n",
        "from torch.nn import Linear\n",
        "from torch.nn import ReLU\n",
        "from torch.nn import Sigmoid\n",
        "from torch.nn import Softmax\n",
        "from torchvision import transforms\n",
        "from torchvision import datasets\n",
        "\n",
        "# These modules are which I've used for data pre processing and results visulaization.\n",
        "from sklearn.preprocessing import LabelEncoder\n",
        "from sklearn.preprocessing import MinMaxScaler \n",
        "from sklearn.metrics import confusion_matrix, classification_report, multilabel_confusion_matrix\n",
        "from matplotlib import pyplot as plt\n",
        "\n",
        "# This is just for interfacing the training progress.\n",
        "# from tqdm.autonotebook import tqdm"
      ],
      "execution_count": 1,
      "outputs": []
    },
    {
      "cell_type": "code",
      "metadata": {
        "id": "xuKv0yb-LibH"
      },
      "source": [
        "class classifier(nn.Module):\n",
        "  def __init__(self):\n",
        "    super(classifier, self).__init__()\n",
        "    self.layer1 = nn.Sequential(nn.Conv2d(1, 32, kernel_size=5, stride=1, padding=2),\n",
        "                                nn.ReLU(), nn.MaxPool2d(kernel_size=2, stride=2))\n",
        "    self.layer2 = nn.Sequential(nn.Conv2d(32, 64, kernel_size=5, stride=1, padding=2),nn.ReLU(),\n",
        "                                nn.MaxPool2d(kernel_size=2, stride=2))\n",
        "    self.drop_out = nn.Dropout(p=0.6)\n",
        "    self.fc1 = nn.Linear(7 * 7 * 64, 1000)\n",
        "    self.fc2 = nn.Linear(1000, 10)\n",
        "  def forward(self, x):\n",
        "    x = self.layer1(x)\n",
        "    x = self.layer2(x)\n",
        "    x = x.reshape(x.size(0), -1)\n",
        "    x = self.drop_out(x)\n",
        "    x = self.fc1(x)\n",
        "    x = self.fc2(x)\n",
        "    return x\n",
        "\n",
        "# Train the model\n",
        "def training(train_dataloader, model, learning_rate, num_epochs,optimizer = \"SGD\", validation = False, validation_loader = None, plots = False):\n",
        "\n",
        "  log_train_loss = []\n",
        "  log_train_accuracy = []\n",
        "  log_valid_loss = []\n",
        "  log_valid_accuracy = []\n",
        "  epoch_plot_values = []\n",
        "  # Loss and optimizer\n",
        "  criterion = nn.CrossEntropyLoss()\n",
        "  if(optimizer == \"SGD\"):\n",
        "    optimizer = torch.optim.SGD(model.parameters(), lr=learning_rate, momentum=learning_rate/4)\n",
        "  elif(optimizer == \"adam\"):\n",
        "    optimizer = torch.optim.Adam(model.parameters(), lr=learning_rate)\n",
        "\n",
        "  for epoch in range(num_epochs):\n",
        "    train_mean_loss = 0\n",
        "    train_mean_acc = 0\n",
        "    for i, (train_images, train_label) in enumerate(train_dataloader):\n",
        "        # Run the forward pass\n",
        "        train_output = model(train_images)\n",
        "        loss = criterion(train_output, train_label)\n",
        "        train_mean_loss +=loss.item()\n",
        "\n",
        "        train_acc = calc_accuracy(train_output,train_label)\n",
        "        train_mean_acc += train_acc \n",
        "        \n",
        "        # Backprop and perform Adam optimisation\n",
        "        optimizer.zero_grad()\n",
        "        loss.backward()\n",
        "        optimizer.step()\n",
        "\n",
        "        if(validation == True):\n",
        "          with torch.no_grad():\n",
        "            valid_mean_loss = 0\n",
        "            valid_mean_acc = 0\n",
        "            for valid_input,valid_label in valid_loader:\n",
        "              # valid_input = valid_input.to(device_available)\n",
        "              # valid_label = valid_label.to(device_available)\n",
        "              valid_output = model(valid_input.type(torch.FloatTensor))\n",
        "              valid_loss = loss_CE(train_output,train_label)\n",
        "              valid_acc = calc_accuracy(valid_output,valid_label)\n",
        "              valid_mean_acc += valid_acc\n",
        "              valid_mean_loss += valid_loss.item() \n",
        "\n",
        "    log_train_loss.append((train_mean_loss/len(train_dataloader)))\n",
        "    log_train_accuracy.append((train_mean_acc/len(train_dataloader)))\n",
        "    if(validation == True):\n",
        "      log_valid_loss.append((valid_mean_loss/len(valid_loader)))\n",
        "      log_valid_accuracy.append((valid_mean_acc/len(valid_loader)))\n",
        "\n",
        "    epoch_plot_values.append(epoch)\n",
        "    \n",
        "    print(\"Epoch:\",epoch)\n",
        "    print(\"Training Loss:\",train_mean_loss/len(train_dataloader))\n",
        "    print(\"Training accuracy:\", (train_mean_acc/len(train_dataloader)), \"%\")\n",
        "    if(validation == True):\n",
        "      print(\"Validation loss:\", valid_mean_loss/len(valid_loader))\n",
        "      print(\"Valdation Accuracy:\", valid_mean_acc/len(valid_loader),\"%\")\n",
        "    print(\"*******************************************************\")\n",
        "    ############################ Early_stopping_condtion ############\n",
        "    if(validation == True): \n",
        "      if((valid_mean_acc/len(valid_loader)) == 100):\n",
        "        print(\"Validation accuracy reached 100%, stopping early.\")\n",
        "        break\n",
        "      elif(len(log_valid_loss)>20):\n",
        "        if(log_valid_loss[-20]<(sum(log_valid_loss[-20:])/20)):\n",
        "          print(sum(log_valid_loss[-20:])/20)\n",
        "          print(\"Validation loss started to increase, stopping early.\")\n",
        "          break\n",
        "\n",
        "  if(plots == True):\n",
        "    f1 = plt.figure(1)\n",
        "    ax1 = f1.add_subplot(111)\n",
        "\n",
        "    f2 = plt.figure(2)\n",
        "    ax2 = f2.add_subplot(111)\n",
        "\n",
        "    ax1.plot(epoch_plot_values,log_train_loss, '-b', label = 'Train loss')\n",
        "    if(validation == True):\n",
        "        ax1.plot(epoch_plot_values,log_valid_loss, '-r', label = 'Validation loss')\n",
        "        ax1.set_title(\"Train and Validation losses\")\n",
        "    else:\n",
        "        ax1.set_title(\"Train loss\")\n",
        "    ax1.set_xlabel(\"Epochs\")\n",
        "    ax1.set_ylabel(\"Loss\")\n",
        "\n",
        "    ax2.plot(epoch_plot_values,log_train_accuracy, '-b', label = 'Train Accuracy')\n",
        "    if(validation == True):\n",
        "        ax2.plot(epoch_plot_values,log_valid_accuracy, '-r', label = 'Validation Accuracy')\n",
        "        ax2.set_title(\"Train and Validation accuracy\")\n",
        "    else:\n",
        "        ax2.set_title(\"Train accuracy\")\n",
        "    ax2.set_xlabel(\"Epochs\")\n",
        "    ax2.set_ylabel(\"Accuracy\")\n",
        "\n",
        "    plt.legend()\n",
        "    plt.show()\n",
        "  \n",
        "def calc_accuracy(prediction_tensor, true_val_tensor):\n",
        "  # This function is just to calculate the accuracy given the prediction and the true value of a batch of data.\n",
        "  prediction_tensor = torch.log_softmax(prediction_tensor, dim = 1)\n",
        "  _, max_idx = torch.max(prediction_tensor, dim = 1)\n",
        "\n",
        "  true_val = true_val_tensor.tolist()\n",
        "  predicted_val = max_idx.cpu().numpy()\n",
        "\n",
        "  correct_count = 0\n",
        "  for i in range(len(true_val)):\n",
        "      \n",
        "      if(predicted_val[i]==true_val[i]):\n",
        "          correct_count += 1\n",
        "\n",
        "  accuracy = (correct_count / len(true_val))*100 \n",
        "  return accuracy\n",
        "  \n",
        "\n",
        "\n",
        "def confusion_matrix_plot(c_matrix, classes, title = \"Confusion Matrix\", bg_color = \"silver\"):\n",
        "  # This function if for plotting the confusion matrix.\n",
        "      \n",
        "  c_map=plt.cm.Greys\n",
        "  plt.imshow(c_matrix, interpolation='nearest', cmap=c_map)\n",
        "\n",
        "  plt.gcf().set_facecolor(bg_color)\n",
        "  plt.title(title)\n",
        "\n",
        "  axes = np.arange(len(classes))\n",
        "\n",
        "  plt.xticks(axes, classes, rotation=45)\n",
        "  plt.yticks(axes, classes)\n",
        "\n",
        "  plt.ylabel(' True Image Label')\n",
        "  plt.xlabel('\\n Predicted Label')\n",
        "\n",
        "  thresh = c_matrix.max() / 2.\n",
        "\n",
        "  for i in range((c_matrix.shape[0])):\n",
        "      for j in range((c_matrix.shape[1])):\n",
        "          if c_matrix[i, j] > thresh:\n",
        "              text_color = \"white\"  \n",
        "          else:\n",
        "              text_color = \"black\"\n",
        "          plt.text(j, i, c_matrix[i, j], horizontalalignment=\"center\", color = text_color)\n",
        "  plt.show()\n",
        "\n",
        "def prediction(test_dataloader, model):\n",
        "  # This function is for predicting with help of the trained model.\n",
        "  correct_label = []\n",
        "  prediction_dataset = []\n",
        "  with torch.no_grad():\n",
        "    model.eval()\n",
        "    test_accuracy = 0\n",
        "    for i,(test_input,label) in enumerate(test_dataloader):\n",
        "      output = model(test_input.type(torch.FloatTensor))\n",
        "      accuracy = calc_accuracy(output,label)\n",
        "      test_accuracy += accuracy\n",
        "      output = torch.log_softmax(output, dim = 1)\n",
        "      _, max_idx = torch.max(output, dim = 1)\n",
        "      prediction_dataset.append(max_idx.cpu().numpy())\n",
        "      correct_label.append(label.tolist())\n",
        "          \n",
        "  prediction_dataset = [pred.squeeze().tolist() for pred in prediction_dataset]\n",
        "  # print(prediction_dataset)\n",
        "  # print(correct_label)\n",
        "  print(\"Accuracy: \",  test_accuracy/len(test_dataloader))\n",
        "  return prediction_dataset, correct_label"
      ],
      "execution_count": 9,
      "outputs": []
    },
    {
      "cell_type": "code",
      "metadata": {
        "id": "1Easdk3C8L0j"
      },
      "source": [
        "# transforms to apply to the data\n",
        "trans = transforms.Compose([transforms.ToTensor(), transforms.Normalize((0.1307,), (0.3081,))])\n",
        "\n",
        "path_data = \"/content\"\n",
        "\n",
        "# MNIST dataset\n",
        "train_dataset = datasets.MNIST(root=path_data, train=True, transform=trans, download=True)\n",
        "test_dataset = datasets.MNIST(root=path_data, train=False, transform=trans)"
      ],
      "execution_count": 3,
      "outputs": []
    },
    {
      "cell_type": "code",
      "metadata": {
        "id": "jkjv5u-Tr_G6",
        "outputId": "8a08c974-9d6b-4917-a2a5-60425771ddc0",
        "colab": {
          "base_uri": "https://localhost:8080/",
          "height": 72
        }
      },
      "source": [
        "model = classifier()\n",
        "batch_size = 100\n",
        "\n",
        "# Changing device to GPU if available.\n",
        "# model = model.to(device_available)\n",
        "if(os.path.exists(\"valid.csv\")):\n",
        "    print(\"Valid.csv found, so validation would be there in training.\")\n",
        "    valid_dataset = my_dataset_class('valid.csv')\n",
        "    valid_loader = DataLoader(valid_dataset,batch_size = 2, shuffle=True)\n",
        "    print(\"Valid Loader\", len(valid_loader))\n",
        "    train_set_name = \"train_valid.csv\"\n",
        "else:\n",
        "    print(\"No Valid.csv found, so no validation in training.\")\n",
        "    train_set_name = \"train.csv\"\n",
        "\n",
        "# train_dataset = my_dataset_class(train_set_name)\n",
        "train_loader = DataLoader(dataset=train_dataset, batch_size=batch_size, shuffle=True)\n",
        "print(\"Train Loader\", len(train_loader))\n",
        "\n",
        "\n",
        "# test_dataset = my_dataset_class(\"test.csv\")\n",
        "test_loader = DataLoader(dataset=test_dataset, batch_size=batch_size, shuffle=False)\n",
        "print(\"Test Loader\", len(test_loader))"
      ],
      "execution_count": 4,
      "outputs": [
        {
          "output_type": "stream",
          "text": [
            "No Valid.csv found, so no validation in training.\n",
            "Train Loader 600\n",
            "Test Loader 100\n"
          ],
          "name": "stdout"
        }
      ]
    },
    {
      "cell_type": "code",
      "metadata": {
        "id": "WImA_FwqZ7vu"
      },
      "source": [
        "# Hyperparameters\n",
        "num_epochs = 5\n",
        "batch_size = 50\n",
        "num_classes = 10\n",
        "batch_size = 100\n",
        "learning_rate = 0.01\n",
        "path_model_final_save = \"/content/\"\n",
        "torch.save(model.state_dict(), path_model_final_save + 'conv_net_model.ckpt')"
      ],
      "execution_count": 15,
      "outputs": []
    },
    {
      "cell_type": "code",
      "metadata": {
        "id": "G6oLf1lmrBkn",
        "outputId": "989faa08-7ffc-428f-9f71-ff9c94f38113",
        "colab": {
          "base_uri": "https://localhost:8080/",
          "height": 940
        }
      },
      "source": [
        "training(train_loader,model, learning_rate, num_epochs,optimizer = \"SGD\", plots = True)\n",
        "\n",
        "# Save the model and plot\n",
        "torch.save(model.state_dict(), path_model_final_save + 'conv_net_model.ckpt')"
      ],
      "execution_count": 16,
      "outputs": [
        {
          "output_type": "stream",
          "text": [
            "Epoch: 0\n",
            "Training Loss: 0.013540767978750713\n",
            "Training accuracy: 99.605 %\n",
            "*******************************************************\n",
            "Epoch: 1\n",
            "Training Loss: 0.012976791315353087\n",
            "Training accuracy: 99.62666666666667 %\n",
            "*******************************************************\n",
            "Epoch: 2\n",
            "Training Loss: 0.012470145530824085\n",
            "Training accuracy: 99.645 %\n",
            "*******************************************************\n",
            "Epoch: 3\n",
            "Training Loss: 0.012056321338556397\n",
            "Training accuracy: 99.66 %\n",
            "*******************************************************\n",
            "Epoch: 4\n",
            "Training Loss: 0.011632215110512333\n",
            "Training accuracy: 99.67666666666666 %\n",
            "*******************************************************\n"
          ],
          "name": "stdout"
        },
        {
          "output_type": "display_data",
          "data": {
            "image/png": "[encoded data removed]",
            "text/plain": [
              "<Figure size 432x288 with 1 Axes>"
            ]
          },
          "metadata": {
            "tags": [],
            "needs_background": "light"
          }
        },
        {
          "output_type": "display_data",
          "data": {
            "image/png": "[encoded data removed]",
            "text/plain": [
              "<Figure size 432x288 with 1 Axes>"
            ]
          },
          "metadata": {
            "tags": [],
            "needs_background": "light"
          }
        }
      ]
    },
    {
      "cell_type": "code",
      "metadata": {
        "id": "5pKc7yDh2bSt",
        "outputId": "103eebbf-891a-4adc-cf9c-6d8b48e9c21c",
        "colab": {
          "base_uri": "https://localhost:8080/",
          "height": 880
        }
      },
      "source": [
        "# Testing cell\n",
        "# Confusion matrix plot and some other metrics like recall, precision and accuracy.\n",
        "\n",
        "b_s = test_loader.batch_size\n",
        "length_loader = len(test_loader)\n",
        "prediction_dataset, correct_label = prediction(test_loader, model)\n",
        "length_prediction = b_s*length_loader\n",
        "\n",
        "prediction_dataset = np.array(prediction_dataset)\n",
        "prediction_dataset.resize([1,length_prediction])\n",
        "prediction_dataset.squeeze()\n",
        "prediction_dataset = prediction_dataset.tolist()\n",
        "prediction_dataset = prediction_dataset[0]\n",
        "\n",
        "\n",
        "correct_label = np.array(correct_label)\n",
        "correct_label.resize([1,length_prediction])\n",
        "correct_label.squeeze()\n",
        "correct_label = correct_label.tolist()\n",
        "correct_label = correct_label[0]\n",
        "\n",
        "c_matrix = (confusion_matrix(correct_label, prediction_dataset,labels= [0,1,2,3,4,5,6,7,8,9]))\n",
        "\n",
        "print(\" \")\n",
        "print(c_matrix)\n",
        "print(\" \")\n",
        "classes = [\"Class 0\",\"Class 1\",\"Class 2\",\"Class 3\",\"Class 4\",\"Class 5\",\"Class 6\",\"Class 7\",\"Class 8\",\"Class 9\"]\n",
        "confusion_matrix_plot(c_matrix, classes , title=\"Confusion matrix on test set\" )\n",
        "print(classification_report(correct_label, prediction_dataset))\n"
      ],
      "execution_count": 17,
      "outputs": [
        {
          "output_type": "stream",
          "text": [
            "Accuracy:  99.33\n",
            " \n",
            "[[ 977    0    0    0    0    0    1    1    1    0]\n",
            " [   0 1132    1    1    0    0    1    0    0    0]\n",
            " [   0    1 1029    0    0    0    0    1    1    0]\n",
            " [   0    0    1 1006    0    2    0    0    1    0]\n",
            " [   0    0    0    0  979    0    0    0    2    1]\n",
            " [   1    0    0    4    0  885    1    0    0    1]\n",
            " [   3    2    0    1    2    3  945    0    2    0]\n",
            " [   0    3    2    1    0    0    0 1019    1    2]\n",
            " [   3    0    2    1    0    1    0    1  964    2]\n",
            " [   1    0    0    0    4    3    0    2    2  997]]\n",
            " \n"
          ],
          "name": "stdout"
        },
        {
          "output_type": "display_data",
          "data": {
            "image/png": "[encoded data removed]",
            "text/plain": [
              "<Figure size 432x288 with 1 Axes>"
            ]
          },
          "metadata": {
            "tags": []
          }
        },
        {
          "output_type": "stream",
          "text": [
            "              precision    recall  f1-score   support\n",
            "\n",
            "           0       0.99      1.00      0.99       980\n",
            "           1       0.99      1.00      1.00      1135\n",
            "           2       0.99      1.00      1.00      1032\n",
            "           3       0.99      1.00      0.99      1010\n",
            "           4       0.99      1.00      1.00       982\n",
            "           5       0.99      0.99      0.99       892\n",
            "           6       1.00      0.99      0.99       958\n",
            "           7       1.00      0.99      0.99      1028\n",
            "           8       0.99      0.99      0.99       974\n",
            "           9       0.99      0.99      0.99      1009\n",
            "\n",
            "    accuracy                           0.99     10000\n",
            "   macro avg       0.99      0.99      0.99     10000\n",
            "weighted avg       0.99      0.99      0.99     10000\n",
            "\n"
          ],
          "name": "stdout"
        }
      ]
    }
  ]
}